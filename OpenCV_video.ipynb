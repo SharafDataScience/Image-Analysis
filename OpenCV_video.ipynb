{
 "cells": [
  {
   "cell_type": "markdown",
   "id": "4423da40-0aa6-4439-8683-a70a738ae48e",
   "metadata": {},
   "source": [
    "# Capture vedio from webcam"
   ]
  },
  {
   "cell_type": "code",
   "execution_count": 1,
   "id": "f2d69437-d3ae-4709-8181-4a69975395ec",
   "metadata": {},
   "outputs": [],
   "source": [
    "import cv2\n",
    "cap = cv2.VideoCapture(0)\n",
    "width  = int(cap.get(cv2.CAP_PROP_FRAME_WIDTH))\n",
    "height = int(cap.get(cv2.CAP_PROP_FRAME_HEIGHT))\n",
    "fps = 30\n",
    "writer = cv2.VideoWriter(r'D:\\video.avi', cv2.VideoWriter_fourcc(*'DIVX'), fps, (width, height))\n",
    "#writer = cv2.VideoWriter(r'D:\\video.mp4', cv2.VideoWriter_fourcc(*'mp4v'), fps, (width, height))\n",
    "while True:\n",
    "    ret, frame = cap.read()\n",
    "\n",
    "    # operation\n",
    "    writer.write(frame)\n",
    "    if not ret:\n",
    "        break  # Exit the loop if no frame is captured\n",
    "    \n",
    "    #color_img = cv2.cvtColor(frame, cv2.COLOR_BGR2GRAY)  \n",
    "    cv2.imshow('frame', frame)\n",
    "    \n",
    "    if cv2.waitKey(1) & 0xFF == ord('q'):\n",
    "        break\n",
    "\n",
    "cap.release()  \n",
    "cv2.destroyAllWindows()"
   ]
  },
  {
   "cell_type": "markdown",
   "id": "bf43ecf8-12d3-489a-983a-660cf4672bab",
   "metadata": {},
   "source": [
    "# vedio from local computer file"
   ]
  },
  {
   "cell_type": "code",
   "execution_count": 17,
   "id": "043ecc29-8649-4816-86d4-d3de021f1907",
   "metadata": {},
   "outputs": [],
   "source": [
    "import cv2  # Import OpenCV library\n",
    "import time  # Import time module for controlling playback speed\n",
    "\n",
    "# Open the video file\n",
    "cap = cv2.VideoCapture('hand_move.mp4')\n",
    "\n",
    "# Check if the video file was successfully opened\n",
    "if not cap.isOpened():\n",
    "    print('Error: File not found or cannot be opened!')\n",
    "    exit()  # Exit the program if the file is not found\n",
    "\n",
    "# Loop to read and display video frames\n",
    "while cap.isOpened():\n",
    "    ret, frame = cap.read()  # Read a frame from the video\n",
    "\n",
    "    if ret:  # If a frame is successfully read\n",
    "        time.sleep(1/20)  # Slow down playback to approximately 20 FPS\n",
    "        cv2.imshow('Frame', frame)  # Display the frame in a window\n",
    "        \n",
    "        # Wait for 1 millisecond and check if the 'q' key is pressed\n",
    "        if cv2.waitKey(1) & 0xFF == ord('q'):\n",
    "            break  # Exit the loop if 'q' is pressed\n",
    "    else:\n",
    "        break  # Exit the loop when the video ends\n",
    "\n",
    "# Release video capture object and close all OpenCV windows\n",
    "cap.release()\n",
    "cv2.destroyAllWindows()\n"
   ]
  },
  {
   "cell_type": "markdown",
   "id": "28611579-bca1-4a71-a84e-db2c19636e93",
   "metadata": {},
   "source": [
    "# Drawing in vedio "
   ]
  },
  {
   "cell_type": "code",
   "execution_count": 6,
   "id": "194558ee-b205-4a87-bad1-edc6121e6dcf",
   "metadata": {},
   "outputs": [],
   "source": [
    "import cv2\n",
    "\n",
    "# Callback function to draw a rectangle\n",
    "def draw_rectangle(event, x, y, flags, param):\n",
    "    global pt1, pt2, topLeft_clicked, botRight_clicked\n",
    "    \n",
    "    if event == cv2.EVENT_LBUTTONDOWN:\n",
    "        # Reset the rectangle if both points were already selected\n",
    "        if topLeft_clicked and botRight_clicked:\n",
    "            pt1 = (0, 0)\n",
    "            pt2 = (0, 0)\n",
    "            topLeft_clicked = False\n",
    "            botRight_clicked = False\n",
    "        \n",
    "        if not topLeft_clicked:\n",
    "            pt1 = (x, y)\n",
    "            topLeft_clicked = True\n",
    "        elif not botRight_clicked:\n",
    "            pt2 = (x, y)\n",
    "            botRight_clicked = True\n",
    "\n",
    "# Global variables\n",
    "pt1 = (0, 0)\n",
    "pt2 = (0, 0)\n",
    "topLeft_clicked = False\n",
    "botRight_clicked = False\n",
    "\n",
    "# Connect the callback\n",
    "cap = cv2.VideoCapture(0)\n",
    "cv2.namedWindow('test')\n",
    "cv2.setMouseCallback('test', draw_rectangle)\n",
    "\n",
    "while True:\n",
    "    ret, frame = cap.read()\n",
    "    if not ret:\n",
    "        break\n",
    "    \n",
    "    # Drawing on the frame based on global variables\n",
    "    if topLeft_clicked:\n",
    "        cv2.circle(frame, center=pt1, radius=5, color=(0, 0, 255), thickness=-1)\n",
    "    if topLeft_clicked and botRight_clicked:\n",
    "        cv2.rectangle(frame, pt1, pt2, (0, 0, 255), 3)\n",
    "    \n",
    "    cv2.imshow('test', frame)\n",
    "    \n",
    "    if cv2.waitKey(1) & 0xFF == ord('q'):\n",
    "        break  # Exit the loop if 'q' is pressed\n",
    "\n",
    "cap.release()\n",
    "cv2.destroyAllWindows()\n"
   ]
  },
  {
   "cell_type": "code",
   "execution_count": null,
   "id": "b2eb0565-f90a-4dae-aa9e-9192352eb9f0",
   "metadata": {},
   "outputs": [],
   "source": []
  }
 ],
 "metadata": {
  "kernelspec": {
   "display_name": "Python 3 (ipykernel)",
   "language": "python",
   "name": "python3"
  },
  "language_info": {
   "codemirror_mode": {
    "name": "ipython",
    "version": 3
   },
   "file_extension": ".py",
   "mimetype": "text/x-python",
   "name": "python",
   "nbconvert_exporter": "python",
   "pygments_lexer": "ipython3",
   "version": "3.12.4"
  }
 },
 "nbformat": 4,
 "nbformat_minor": 5
}
